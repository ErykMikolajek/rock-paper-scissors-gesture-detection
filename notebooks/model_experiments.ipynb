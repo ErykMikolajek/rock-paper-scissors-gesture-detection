{
 "cells": [
  {
   "cell_type": "code",
   "execution_count": 1,
   "metadata": {},
   "outputs": [],
   "source": [
    "import numpy as np\n",
    "import tensorflow as tf\n",
    "from tensorflow import keras\n",
    "import keras_tuner as kt\n",
    "from sklearn.model_selection import train_test_split"
   ]
  },
  {
   "cell_type": "code",
   "execution_count": 2,
   "metadata": {},
   "outputs": [],
   "source": [
    "dataset = '../model/landmarks_dataset.csv'"
   ]
  },
  {
   "cell_type": "code",
   "execution_count": 3,
   "metadata": {},
   "outputs": [],
   "source": [
    "X_dataset = np.loadtxt(dataset, delimiter=',', dtype='float32', usecols=list(range(1, 43)))\n",
    "y_dataset = np.loadtxt(dataset, delimiter=',', dtype='int32', usecols=(0))"
   ]
  },
  {
   "cell_type": "code",
   "execution_count": 4,
   "metadata": {},
   "outputs": [],
   "source": [
    "X_train, X_test, y_train, y_test = train_test_split(X_dataset, y_dataset, train_size=0.8, random_state=42)"
   ]
  },
  {
   "cell_type": "code",
   "execution_count": 5,
   "metadata": {},
   "outputs": [],
   "source": [
    "model = tf.keras.models.Sequential([\n",
    "    tf.keras.layers.Input((42, )),\n",
    "    tf.keras.layers.Dropout(0.2),\n",
    "    tf.keras.layers.Dense(50, activation='relu'),\n",
    "    tf.keras.layers.Dropout(0.4),\n",
    "    tf.keras.layers.Dense(40, activation='relu'),\n",
    "    tf.keras.layers.Dense(3, activation='softmax')\n",
    "])"
   ]
  },
  {
   "cell_type": "code",
   "execution_count": 6,
   "metadata": {},
   "outputs": [
    {
     "name": "stdout",
     "output_type": "stream",
     "text": [
      "Model: \"sequential\"\n",
      "_________________________________________________________________\n",
      " Layer (type)                Output Shape              Param #   \n",
      "=================================================================\n",
      " dropout (Dropout)           (None, 42)                0         \n",
      "                                                                 \n",
      " dense (Dense)               (None, 50)                2150      \n",
      "                                                                 \n",
      " dropout_1 (Dropout)         (None, 50)                0         \n",
      "                                                                 \n",
      " dense_1 (Dense)             (None, 40)                2040      \n",
      "                                                                 \n",
      " dense_2 (Dense)             (None, 3)                 123       \n",
      "                                                                 \n",
      "=================================================================\n",
      "Total params: 4313 (16.85 KB)\n",
      "Trainable params: 4313 (16.85 KB)\n",
      "Non-trainable params: 0 (0.00 Byte)\n",
      "_________________________________________________________________\n"
     ]
    }
   ],
   "source": [
    "model.summary()"
   ]
  },
  {
   "cell_type": "code",
   "execution_count": 12,
   "metadata": {},
   "outputs": [],
   "source": [
    "from tensorflow.keras import backend as K\n",
    "def f1_score(y_true, y_pred):\n",
    "    true_positives = K.sum(K.round(K.clip(y_true * y_pred, 0, 1)))\n",
    "    possible_positives = K.sum(K.round(K.clip(y_true, 0, 1)))\n",
    "    predicted_positives = K.sum(K.round(K.clip(y_pred, 0, 1)))\n",
    "    \n",
    "    precision = true_positives / (predicted_positives + K.epsilon())\n",
    "    recall = true_positives / (possible_positives + K.epsilon())\n",
    "    \n",
    "    f1_val = 2*(precision*recall)/(precision+recall+K.epsilon())\n",
    "    return f1_val\n",
    "\n",
    "model.compile(\n",
    "    optimizer='adam',\n",
    "    loss='sparse_categorical_crossentropy',\n",
    "    metrics=[f1_score]\n",
    ")"
   ]
  },
  {
   "cell_type": "code",
   "execution_count": 13,
   "metadata": {},
   "outputs": [
    {
     "name": "stdout",
     "output_type": "stream",
     "text": [
      "Epoch 1/100\n",
      "14/14 [==============================] - 0s 7ms/step - loss: 0.3741 - f1_score: 0.8898 - val_loss: 0.1359 - val_f1_score: 0.8459\n",
      "Epoch 2/100\n",
      "14/14 [==============================] - 0s 2ms/step - loss: 0.3511 - f1_score: 0.8999 - val_loss: 0.1483 - val_f1_score: 0.8412\n",
      "Epoch 3/100\n",
      "14/14 [==============================] - 0s 2ms/step - loss: 0.3548 - f1_score: 0.8890 - val_loss: 0.1479 - val_f1_score: 0.8415\n",
      "Epoch 4/100\n",
      "14/14 [==============================] - 0s 2ms/step - loss: 0.3616 - f1_score: 0.8884 - val_loss: 0.1440 - val_f1_score: 0.8433\n",
      "Epoch 5/100\n",
      "14/14 [==============================] - 0s 2ms/step - loss: 0.3478 - f1_score: 0.8877 - val_loss: 0.1510 - val_f1_score: 0.8442\n",
      "Epoch 6/100\n",
      "14/14 [==============================] - 0s 2ms/step - loss: 0.3338 - f1_score: 0.8796 - val_loss: 0.1518 - val_f1_score: 0.8411\n",
      "Epoch 7/100\n",
      "14/14 [==============================] - 0s 2ms/step - loss: 0.3434 - f1_score: 0.8889 - val_loss: 0.1380 - val_f1_score: 0.8492\n",
      "Epoch 8/100\n",
      "14/14 [==============================] - 0s 2ms/step - loss: 0.3560 - f1_score: 0.8883 - val_loss: 0.1433 - val_f1_score: 0.8446\n",
      "Epoch 9/100\n",
      "14/14 [==============================] - 0s 2ms/step - loss: 0.3368 - f1_score: 0.8922 - val_loss: 0.1482 - val_f1_score: 0.8423\n",
      "Epoch 10/100\n",
      "14/14 [==============================] - 0s 2ms/step - loss: 0.3516 - f1_score: 0.8744 - val_loss: 0.1397 - val_f1_score: 0.8399\n",
      "Epoch 11/100\n",
      "14/14 [==============================] - 0s 2ms/step - loss: 0.3571 - f1_score: 0.8783 - val_loss: 0.1388 - val_f1_score: 0.8371\n",
      "Epoch 12/100\n",
      "14/14 [==============================] - 0s 2ms/step - loss: 0.3442 - f1_score: 0.8849 - val_loss: 0.1541 - val_f1_score: 0.8403\n",
      "Epoch 13/100\n",
      "14/14 [==============================] - 0s 2ms/step - loss: 0.3511 - f1_score: 0.8786 - val_loss: 0.1503 - val_f1_score: 0.8356\n",
      "Epoch 14/100\n",
      "14/14 [==============================] - 0s 2ms/step - loss: 0.3301 - f1_score: 0.8966 - val_loss: 0.1472 - val_f1_score: 0.8368\n",
      "Epoch 15/100\n",
      "14/14 [==============================] - 0s 2ms/step - loss: 0.3314 - f1_score: 0.8876 - val_loss: 0.1555 - val_f1_score: 0.8325\n",
      "Epoch 16/100\n",
      "14/14 [==============================] - 0s 2ms/step - loss: 0.3223 - f1_score: 0.8797 - val_loss: 0.1492 - val_f1_score: 0.8338\n",
      "Epoch 17/100\n",
      "14/14 [==============================] - 0s 2ms/step - loss: 0.3340 - f1_score: 0.8813 - val_loss: 0.1422 - val_f1_score: 0.8405\n",
      "Epoch 18/100\n",
      "14/14 [==============================] - 0s 2ms/step - loss: 0.3102 - f1_score: 0.8864 - val_loss: 0.1365 - val_f1_score: 0.8445\n",
      "Epoch 19/100\n",
      "14/14 [==============================] - 0s 2ms/step - loss: 0.3518 - f1_score: 0.8844 - val_loss: 0.1501 - val_f1_score: 0.8442\n",
      "Epoch 20/100\n",
      "14/14 [==============================] - 0s 2ms/step - loss: 0.3183 - f1_score: 0.8803 - val_loss: 0.1512 - val_f1_score: 0.8381\n",
      "Epoch 21/100\n",
      "14/14 [==============================] - 0s 2ms/step - loss: 0.3292 - f1_score: 0.8830 - val_loss: 0.1390 - val_f1_score: 0.8426\n",
      "Epoch 22/100\n",
      "14/14 [==============================] - 0s 2ms/step - loss: 0.3247 - f1_score: 0.8790 - val_loss: 0.1491 - val_f1_score: 0.8438\n",
      "Epoch 23/100\n",
      "14/14 [==============================] - 0s 2ms/step - loss: 0.3341 - f1_score: 0.8863 - val_loss: 0.1342 - val_f1_score: 0.8450\n",
      "Epoch 24/100\n",
      "14/14 [==============================] - 0s 2ms/step - loss: 0.3153 - f1_score: 0.8803 - val_loss: 0.1447 - val_f1_score: 0.8421\n",
      "Epoch 25/100\n",
      "14/14 [==============================] - 0s 2ms/step - loss: 0.3140 - f1_score: 0.8788 - val_loss: 0.1510 - val_f1_score: 0.8425\n",
      "Epoch 26/100\n",
      "14/14 [==============================] - 0s 2ms/step - loss: 0.3094 - f1_score: 0.8842 - val_loss: 0.1542 - val_f1_score: 0.8396\n",
      "Epoch 27/100\n",
      "14/14 [==============================] - 0s 2ms/step - loss: 0.2869 - f1_score: 0.8754 - val_loss: 0.1452 - val_f1_score: 0.8364\n",
      "Epoch 28/100\n",
      "14/14 [==============================] - 0s 2ms/step - loss: 0.3244 - f1_score: 0.8597 - val_loss: 0.1379 - val_f1_score: 0.8353\n",
      "Epoch 29/100\n",
      "14/14 [==============================] - 0s 2ms/step - loss: 0.3241 - f1_score: 0.8854 - val_loss: 0.1384 - val_f1_score: 0.8386\n",
      "Epoch 30/100\n",
      "14/14 [==============================] - 0s 2ms/step - loss: 0.3216 - f1_score: 0.8834 - val_loss: 0.1592 - val_f1_score: 0.8429\n",
      "Epoch 31/100\n",
      "14/14 [==============================] - 0s 2ms/step - loss: 0.3117 - f1_score: 0.8849 - val_loss: 0.1376 - val_f1_score: 0.8463\n",
      "Epoch 32/100\n",
      "14/14 [==============================] - 0s 2ms/step - loss: 0.3104 - f1_score: 0.8814 - val_loss: 0.1308 - val_f1_score: 0.8439\n",
      "Epoch 33/100\n",
      "14/14 [==============================] - 0s 2ms/step - loss: 0.3371 - f1_score: 0.8916 - val_loss: 0.1373 - val_f1_score: 0.8389\n",
      "Epoch 34/100\n",
      "14/14 [==============================] - 0s 2ms/step - loss: 0.2995 - f1_score: 0.8806 - val_loss: 0.1496 - val_f1_score: 0.8337\n",
      "Epoch 35/100\n",
      "14/14 [==============================] - 0s 2ms/step - loss: 0.3027 - f1_score: 0.8795 - val_loss: 0.1440 - val_f1_score: 0.8356\n",
      "Epoch 36/100\n",
      "14/14 [==============================] - 0s 2ms/step - loss: 0.2938 - f1_score: 0.8787 - val_loss: 0.1466 - val_f1_score: 0.8370\n",
      "Epoch 37/100\n",
      "14/14 [==============================] - 0s 2ms/step - loss: 0.3340 - f1_score: 0.8819 - val_loss: 0.1726 - val_f1_score: 0.8386\n",
      "Epoch 38/100\n",
      "14/14 [==============================] - 0s 2ms/step - loss: 0.3351 - f1_score: 0.8779 - val_loss: 0.1551 - val_f1_score: 0.8406\n",
      "Epoch 39/100\n",
      "14/14 [==============================] - 0s 2ms/step - loss: 0.3030 - f1_score: 0.8701 - val_loss: 0.1661 - val_f1_score: 0.8283\n",
      "Epoch 40/100\n",
      "14/14 [==============================] - 0s 2ms/step - loss: 0.2867 - f1_score: 0.8627 - val_loss: 0.1525 - val_f1_score: 0.8288\n",
      "Epoch 41/100\n",
      "14/14 [==============================] - 0s 2ms/step - loss: 0.3119 - f1_score: 0.8782 - val_loss: 0.1433 - val_f1_score: 0.8318\n",
      "Epoch 42/100\n",
      "14/14 [==============================] - 0s 2ms/step - loss: 0.2979 - f1_score: 0.8741 - val_loss: 0.1410 - val_f1_score: 0.8271\n",
      "Epoch 43/100\n",
      "14/14 [==============================] - 0s 2ms/step - loss: 0.3046 - f1_score: 0.8763 - val_loss: 0.1299 - val_f1_score: 0.8350\n",
      "Epoch 44/100\n",
      "14/14 [==============================] - 0s 2ms/step - loss: 0.3144 - f1_score: 0.8728 - val_loss: 0.1517 - val_f1_score: 0.8313\n",
      "Epoch 45/100\n",
      "14/14 [==============================] - 0s 2ms/step - loss: 0.3128 - f1_score: 0.8707 - val_loss: 0.1483 - val_f1_score: 0.8313\n",
      "Epoch 46/100\n",
      "14/14 [==============================] - 0s 2ms/step - loss: 0.2939 - f1_score: 0.8823 - val_loss: 0.1409 - val_f1_score: 0.8326\n",
      "Epoch 47/100\n",
      "14/14 [==============================] - 0s 2ms/step - loss: 0.2974 - f1_score: 0.8827 - val_loss: 0.1603 - val_f1_score: 0.8320\n",
      "Epoch 48/100\n",
      "14/14 [==============================] - 0s 2ms/step - loss: 0.2922 - f1_score: 0.8543 - val_loss: 0.1524 - val_f1_score: 0.8312\n",
      "Epoch 49/100\n",
      "14/14 [==============================] - 0s 2ms/step - loss: 0.3162 - f1_score: 0.8707 - val_loss: 0.1334 - val_f1_score: 0.8312\n",
      "Epoch 50/100\n",
      "14/14 [==============================] - 0s 2ms/step - loss: 0.2997 - f1_score: 0.8765 - val_loss: 0.1433 - val_f1_score: 0.8291\n",
      "Epoch 51/100\n",
      "14/14 [==============================] - 0s 2ms/step - loss: 0.3155 - f1_score: 0.8705 - val_loss: 0.1440 - val_f1_score: 0.8268\n",
      "Epoch 52/100\n",
      "14/14 [==============================] - 0s 2ms/step - loss: 0.2827 - f1_score: 0.8671 - val_loss: 0.1653 - val_f1_score: 0.8262\n",
      "Epoch 53/100\n",
      "14/14 [==============================] - 0s 2ms/step - loss: 0.2839 - f1_score: 0.8703 - val_loss: 0.1554 - val_f1_score: 0.8315\n",
      "Epoch 54/100\n",
      "14/14 [==============================] - 0s 2ms/step - loss: 0.2667 - f1_score: 0.8618 - val_loss: 0.1435 - val_f1_score: 0.8279\n",
      "Epoch 55/100\n",
      "14/14 [==============================] - 0s 2ms/step - loss: 0.2984 - f1_score: 0.8676 - val_loss: 0.1349 - val_f1_score: 0.8333\n",
      "Epoch 56/100\n",
      "14/14 [==============================] - 0s 2ms/step - loss: 0.2871 - f1_score: 0.8766 - val_loss: 0.1317 - val_f1_score: 0.8405\n",
      "Epoch 57/100\n",
      "14/14 [==============================] - 0s 2ms/step - loss: 0.2845 - f1_score: 0.8814 - val_loss: 0.1535 - val_f1_score: 0.8293\n",
      "Epoch 58/100\n",
      "14/14 [==============================] - 0s 2ms/step - loss: 0.3032 - f1_score: 0.8667 - val_loss: 0.1509 - val_f1_score: 0.8320\n",
      "Epoch 59/100\n",
      "14/14 [==============================] - 0s 2ms/step - loss: 0.2966 - f1_score: 0.8703 - val_loss: 0.1563 - val_f1_score: 0.8258\n",
      "Epoch 60/100\n",
      "14/14 [==============================] - 0s 2ms/step - loss: 0.3122 - f1_score: 0.8697 - val_loss: 0.1727 - val_f1_score: 0.8298\n",
      "Epoch 61/100\n",
      "14/14 [==============================] - 0s 2ms/step - loss: 0.2964 - f1_score: 0.8792 - val_loss: 0.1398 - val_f1_score: 0.8320\n",
      "Epoch 62/100\n",
      "14/14 [==============================] - 0s 2ms/step - loss: 0.2743 - f1_score: 0.8791 - val_loss: 0.1554 - val_f1_score: 0.8242\n",
      "Epoch 63/100\n",
      "14/14 [==============================] - 0s 2ms/step - loss: 0.2763 - f1_score: 0.8619 - val_loss: 0.1430 - val_f1_score: 0.8295\n",
      "Epoch 64/100\n",
      "14/14 [==============================] - 0s 2ms/step - loss: 0.2714 - f1_score: 0.8710 - val_loss: 0.1444 - val_f1_score: 0.8297\n",
      "Epoch 65/100\n",
      "14/14 [==============================] - 0s 2ms/step - loss: 0.2732 - f1_score: 0.8667 - val_loss: 0.1672 - val_f1_score: 0.8380\n",
      "Epoch 66/100\n",
      "14/14 [==============================] - 0s 2ms/step - loss: 0.2706 - f1_score: 0.8792 - val_loss: 0.1501 - val_f1_score: 0.8293\n",
      "Epoch 67/100\n",
      "14/14 [==============================] - 0s 2ms/step - loss: 0.3061 - f1_score: 0.8664 - val_loss: 0.1432 - val_f1_score: 0.8350\n",
      "Epoch 68/100\n",
      "14/14 [==============================] - 0s 2ms/step - loss: 0.3149 - f1_score: 0.8897 - val_loss: 0.1615 - val_f1_score: 0.8333\n",
      "Epoch 69/100\n",
      "14/14 [==============================] - 0s 2ms/step - loss: 0.3007 - f1_score: 0.8829 - val_loss: 0.1639 - val_f1_score: 0.8335\n",
      "Epoch 70/100\n",
      "14/14 [==============================] - 0s 2ms/step - loss: 0.2964 - f1_score: 0.8670 - val_loss: 0.1651 - val_f1_score: 0.8347\n",
      "Epoch 71/100\n",
      "14/14 [==============================] - 0s 2ms/step - loss: 0.2621 - f1_score: 0.8636 - val_loss: 0.1637 - val_f1_score: 0.8289\n",
      "Epoch 72/100\n",
      "14/14 [==============================] - 0s 2ms/step - loss: 0.2578 - f1_score: 0.8696 - val_loss: 0.1361 - val_f1_score: 0.8299\n",
      "Epoch 73/100\n",
      "14/14 [==============================] - 0s 2ms/step - loss: 0.3016 - f1_score: 0.8780 - val_loss: 0.1344 - val_f1_score: 0.8320\n",
      "Epoch 74/100\n",
      "14/14 [==============================] - 0s 2ms/step - loss: 0.2886 - f1_score: 0.8572 - val_loss: 0.1528 - val_f1_score: 0.8282\n",
      "Epoch 75/100\n",
      "14/14 [==============================] - 0s 2ms/step - loss: 0.2916 - f1_score: 0.8647 - val_loss: 0.1477 - val_f1_score: 0.8267\n",
      "Epoch 76/100\n",
      "14/14 [==============================] - 0s 2ms/step - loss: 0.2697 - f1_score: 0.8584 - val_loss: 0.1491 - val_f1_score: 0.8245\n",
      "Epoch 77/100\n",
      "14/14 [==============================] - 0s 2ms/step - loss: 0.2704 - f1_score: 0.8766 - val_loss: 0.1631 - val_f1_score: 0.8345\n",
      "Epoch 78/100\n",
      "14/14 [==============================] - 0s 2ms/step - loss: 0.2747 - f1_score: 0.8664 - val_loss: 0.1541 - val_f1_score: 0.8345\n",
      "Epoch 79/100\n",
      "14/14 [==============================] - 0s 2ms/step - loss: 0.2925 - f1_score: 0.8700 - val_loss: 0.1387 - val_f1_score: 0.8341\n",
      "Epoch 80/100\n",
      "14/14 [==============================] - 0s 2ms/step - loss: 0.2529 - f1_score: 0.8702 - val_loss: 0.1511 - val_f1_score: 0.8311\n",
      "Epoch 81/100\n",
      "14/14 [==============================] - 0s 2ms/step - loss: 0.2746 - f1_score: 0.8661 - val_loss: 0.1423 - val_f1_score: 0.8325\n",
      "Epoch 82/100\n",
      "14/14 [==============================] - 0s 4ms/step - loss: 0.2607 - f1_score: 0.8683 - val_loss: 0.1467 - val_f1_score: 0.8328\n",
      "Epoch 83/100\n",
      "14/14 [==============================] - 0s 2ms/step - loss: 0.2819 - f1_score: 0.8708 - val_loss: 0.1394 - val_f1_score: 0.8335\n",
      "Epoch 84/100\n",
      "14/14 [==============================] - 0s 2ms/step - loss: 0.2783 - f1_score: 0.8613 - val_loss: 0.1447 - val_f1_score: 0.8286\n",
      "Epoch 85/100\n",
      "14/14 [==============================] - 0s 2ms/step - loss: 0.2375 - f1_score: 0.8732 - val_loss: 0.1476 - val_f1_score: 0.8299\n",
      "Epoch 86/100\n",
      "14/14 [==============================] - 0s 2ms/step - loss: 0.2864 - f1_score: 0.8657 - val_loss: 0.1547 - val_f1_score: 0.8350\n",
      "Epoch 87/100\n",
      "14/14 [==============================] - 0s 2ms/step - loss: 0.2664 - f1_score: 0.8707 - val_loss: 0.1611 - val_f1_score: 0.8374\n",
      "Epoch 88/100\n",
      "14/14 [==============================] - 0s 2ms/step - loss: 0.2758 - f1_score: 0.8744 - val_loss: 0.1508 - val_f1_score: 0.8330\n",
      "Epoch 89/100\n",
      "14/14 [==============================] - 0s 2ms/step - loss: 0.2520 - f1_score: 0.8641 - val_loss: 0.1671 - val_f1_score: 0.8356\n",
      "Epoch 90/100\n",
      "14/14 [==============================] - 0s 2ms/step - loss: 0.2768 - f1_score: 0.8682 - val_loss: 0.1516 - val_f1_score: 0.8323\n",
      "Epoch 91/100\n",
      "14/14 [==============================] - 0s 2ms/step - loss: 0.2740 - f1_score: 0.8763 - val_loss: 0.1671 - val_f1_score: 0.8290\n",
      "Epoch 92/100\n",
      "14/14 [==============================] - 0s 2ms/step - loss: 0.2541 - f1_score: 0.8490 - val_loss: 0.1522 - val_f1_score: 0.8290\n",
      "Epoch 93/100\n",
      "14/14 [==============================] - 0s 2ms/step - loss: 0.2806 - f1_score: 0.8675 - val_loss: 0.1526 - val_f1_score: 0.8327\n",
      "Epoch 94/100\n",
      "14/14 [==============================] - 0s 2ms/step - loss: 0.2594 - f1_score: 0.8661 - val_loss: 0.1616 - val_f1_score: 0.8349\n",
      "Epoch 95/100\n",
      "14/14 [==============================] - 0s 2ms/step - loss: 0.2509 - f1_score: 0.8602 - val_loss: 0.1433 - val_f1_score: 0.8336\n",
      "Epoch 96/100\n",
      "14/14 [==============================] - 0s 2ms/step - loss: 0.2747 - f1_score: 0.8596 - val_loss: 0.1445 - val_f1_score: 0.8302\n",
      "Epoch 97/100\n",
      "14/14 [==============================] - 0s 2ms/step - loss: 0.2416 - f1_score: 0.8738 - val_loss: 0.1468 - val_f1_score: 0.8370\n",
      "Epoch 98/100\n",
      "14/14 [==============================] - 0s 2ms/step - loss: 0.2673 - f1_score: 0.8632 - val_loss: 0.1309 - val_f1_score: 0.8349\n",
      "Epoch 99/100\n",
      "14/14 [==============================] - 0s 2ms/step - loss: 0.2731 - f1_score: 0.8634 - val_loss: 0.1612 - val_f1_score: 0.8270\n",
      "Epoch 100/100\n",
      "14/14 [==============================] - 0s 2ms/step - loss: 0.2818 - f1_score: 0.8598 - val_loss: 0.1463 - val_f1_score: 0.8328\n"
     ]
    }
   ],
   "source": [
    "history = model.fit(\n",
    "    X_train,\n",
    "    y_train,\n",
    "    epochs=100,\n",
    "    batch_size=128,\n",
    "    validation_data=(X_test, y_test),\n",
    ")"
   ]
  },
  {
   "cell_type": "code",
   "execution_count": 14,
   "metadata": {},
   "outputs": [
    {
     "name": "stdout",
     "output_type": "stream",
     "text": [
      "4/4 [==============================] - 0s 1ms/step - loss: 0.1463 - f1_score: 0.8328\n"
     ]
    }
   ],
   "source": [
    "val_loss, val_acc = model.evaluate(X_test, y_test, batch_size=128)"
   ]
  },
  {
   "cell_type": "code",
   "execution_count": 15,
   "metadata": {},
   "outputs": [
    {
     "name": "stdout",
     "output_type": "stream",
     "text": [
      "1/1 [==============================] - 0s 47ms/step\n",
      "[0.12245654 0.02936187 0.84818166]\n",
      "2\n"
     ]
    }
   ],
   "source": [
    "predict_result = model.predict(np.array([X_test[0]]))\n",
    "print(np.squeeze(predict_result))\n",
    "print(np.argmax(np.squeeze(predict_result)))"
   ]
  },
  {
   "cell_type": "code",
   "execution_count": 16,
   "metadata": {},
   "outputs": [
    {
     "name": "stdout",
     "output_type": "stream",
     "text": [
      "14/14 [==============================] - 0s 412us/step\n"
     ]
    },
    {
     "data": {
      "image/png": "[encoded data removed]",
      "text/plain": [
       "<Figure size 700x600 with 2 Axes>"
      ]
     },
     "metadata": {},
     "output_type": "display_data"
    },
    {
     "name": "stdout",
     "output_type": "stream",
     "text": [
      "Classification Report\n",
      "              precision    recall  f1-score   support\n",
      "\n",
      "           0       0.99      0.98      0.99       135\n",
      "           1       1.00      0.93      0.96       123\n",
      "           2       0.94      0.99      0.97       186\n",
      "\n",
      "    accuracy                           0.97       444\n",
      "   macro avg       0.98      0.97      0.97       444\n",
      "weighted avg       0.97      0.97      0.97       444\n",
      "\n"
     ]
    }
   ],
   "source": [
    "import pandas as pd\n",
    "import seaborn as sns\n",
    "import matplotlib.pyplot as plt\n",
    "from sklearn.metrics import confusion_matrix, classification_report\n",
    "\n",
    "def print_confusion_matrix(y_true, y_pred, report=True):\n",
    "    labels = sorted(list(set(y_true)))\n",
    "    cmx_data = confusion_matrix(y_true, y_pred, labels=labels)\n",
    "    \n",
    "    df_cmx = pd.DataFrame(cmx_data, index=labels, columns=labels)\n",
    " \n",
    "    fig, ax = plt.subplots(figsize=(7, 6))\n",
    "    sns.heatmap(df_cmx, annot=True, fmt='g' ,square=False)\n",
    "    ax.set_ylim(len(set(y_true)), 0)\n",
    "    plt.show()\n",
    "    \n",
    "    if report:\n",
    "        print('Classification Report')\n",
    "        print(classification_report(y_test, y_pred))\n",
    "\n",
    "Y_pred = model.predict(X_test)\n",
    "y_pred = np.argmax(Y_pred, axis=1)\n",
    "\n",
    "print_confusion_matrix(y_test, y_pred)"
   ]
  },
  {
   "cell_type": "code",
   "execution_count": null,
   "metadata": {},
   "outputs": [
    {
     "data": {
      "text/plain": [
       "[<matplotlib.lines.Line2D at 0x16bdcc850>]"
      ]
     },
     "execution_count": 12,
     "metadata": {},
     "output_type": "execute_result"
    },
    {
     "data": {
      "image/png": "[encoded data removed]",
      "text/plain": [
       "<Figure size 640x480 with 1 Axes>"
      ]
     },
     "metadata": {},
     "output_type": "display_data"
    }
   ],
   "source": [
    "plt.plot(history.history['val_loss'])"
   ]
  }
 ],
 "metadata": {
  "kernelspec": {
   "display_name": "compvis",
   "language": "python",
   "name": "python3"
  },
  "language_info": {
   "codemirror_mode": {
    "name": "ipython",
    "version": 3
   },
   "file_extension": ".py",
   "mimetype": "text/x-python",
   "name": "python",
   "nbconvert_exporter": "python",
   "pygments_lexer": "ipython3",
   "version": "3.10.14"
  }
 },
 "nbformat": 4,
 "nbformat_minor": 2
}
