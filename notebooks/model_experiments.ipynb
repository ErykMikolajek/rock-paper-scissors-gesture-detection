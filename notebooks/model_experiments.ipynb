{
 "cells": [
  {
   "cell_type": "code",
   "execution_count": 1,
   "metadata": {},
   "outputs": [],
   "source": [
    "import csv\n",
    "\n",
    "import numpy as np\n",
    "import tensorflow as tf\n",
    "from sklearn.model_selection import train_test_split"
   ]
  },
  {
   "cell_type": "code",
   "execution_count": 2,
   "metadata": {},
   "outputs": [],
   "source": [
    "dataset = '../model/landmarks_dataset.csv'"
   ]
  },
  {
   "cell_type": "code",
   "execution_count": 3,
   "metadata": {},
   "outputs": [],
   "source": [
    "X_dataset = np.loadtxt(dataset, delimiter=',', dtype='float32', usecols=list(range(1, 43)))\n",
    "y_dataset = np.loadtxt(dataset, delimiter=',', dtype='int32', usecols=(0))"
   ]
  },
  {
   "cell_type": "code",
   "execution_count": 4,
   "metadata": {},
   "outputs": [],
   "source": [
    "X_train, X_test, y_train, y_test = train_test_split(X_dataset, y_dataset, train_size=0.8, random_state=42)"
   ]
  },
  {
   "cell_type": "code",
   "execution_count": 5,
   "metadata": {},
   "outputs": [],
   "source": [
    "model = tf.keras.models.Sequential([\n",
    "    tf.keras.layers.Input((42, )),\n",
    "    tf.keras.layers.Dropout(0.2),\n",
    "    tf.keras.layers.Dense(50, activation='relu'),\n",
    "    tf.keras.layers.Dropout(0.4),\n",
    "    tf.keras.layers.Dense(40, activation='relu'),\n",
    "    tf.keras.layers.Dense(3, activation='softmax')\n",
    "])"
   ]
  },
  {
   "cell_type": "code",
   "execution_count": 6,
   "metadata": {},
   "outputs": [
    {
     "name": "stdout",
     "output_type": "stream",
     "text": [
      "Model: \"sequential\"\n",
      "_________________________________________________________________\n",
      " Layer (type)                Output Shape              Param #   \n",
      "=================================================================\n",
      " dropout (Dropout)           (None, 42)                0         \n",
      "                                                                 \n",
      " dense (Dense)               (None, 50)                2150      \n",
      "                                                                 \n",
      " dropout_1 (Dropout)         (None, 50)                0         \n",
      "                                                                 \n",
      " dense_1 (Dense)             (None, 40)                2040      \n",
      "                                                                 \n",
      " dense_2 (Dense)             (None, 3)                 123       \n",
      "                                                                 \n",
      "=================================================================\n",
      "Total params: 4313 (16.85 KB)\n",
      "Trainable params: 4313 (16.85 KB)\n",
      "Non-trainable params: 0 (0.00 Byte)\n",
      "_________________________________________________________________\n"
     ]
    }
   ],
   "source": [
    "model.summary()"
   ]
  },
  {
   "cell_type": "code",
   "execution_count": 7,
   "metadata": {},
   "outputs": [],
   "source": [
    "model.compile(\n",
    "    optimizer='adam',\n",
    "    loss='sparse_categorical_crossentropy',\n",
    "    metrics=['accuracy']\n",
    ")"
   ]
  },
  {
   "cell_type": "code",
   "execution_count": 8,
   "metadata": {},
   "outputs": [
    {
     "name": "stdout",
     "output_type": "stream",
     "text": [
      "Epoch 1/100\n",
      "11/11 [==============================] - 0s 10ms/step - loss: 1.0889 - accuracy: 0.3856 - val_loss: 1.0162 - val_accuracy: 0.5351\n",
      "Epoch 2/100\n",
      "11/11 [==============================] - 0s 2ms/step - loss: 0.9782 - accuracy: 0.5389 - val_loss: 0.9465 - val_accuracy: 0.5351\n",
      "Epoch 3/100\n",
      "11/11 [==============================] - 0s 2ms/step - loss: 0.9291 - accuracy: 0.5843 - val_loss: 0.9092 - val_accuracy: 0.5322\n",
      "Epoch 4/100\n",
      "11/11 [==============================] - 0s 2ms/step - loss: 0.9095 - accuracy: 0.5924 - val_loss: 0.8728 - val_accuracy: 0.5789\n",
      "Epoch 5/100\n",
      "11/11 [==============================] - 0s 13ms/step - loss: 0.8656 - accuracy: 0.6342 - val_loss: 0.8374 - val_accuracy: 0.6404\n",
      "Epoch 6/100\n",
      "11/11 [==============================] - 0s 2ms/step - loss: 0.8464 - accuracy: 0.6386 - val_loss: 0.7996 - val_accuracy: 0.6608\n",
      "Epoch 7/100\n",
      "11/11 [==============================] - 0s 2ms/step - loss: 0.8082 - accuracy: 0.6782 - val_loss: 0.7515 - val_accuracy: 0.7544\n",
      "Epoch 8/100\n",
      "11/11 [==============================] - 0s 2ms/step - loss: 0.7822 - accuracy: 0.6620 - val_loss: 0.7010 - val_accuracy: 0.7398\n",
      "Epoch 9/100\n",
      "11/11 [==============================] - 0s 2ms/step - loss: 0.7531 - accuracy: 0.6987 - val_loss: 0.6488 - val_accuracy: 0.7895\n",
      "Epoch 10/100\n",
      "11/11 [==============================] - 0s 2ms/step - loss: 0.7101 - accuracy: 0.7177 - val_loss: 0.5987 - val_accuracy: 0.8304\n",
      "Epoch 11/100\n",
      "11/11 [==============================] - 0s 2ms/step - loss: 0.7165 - accuracy: 0.7016 - val_loss: 0.5582 - val_accuracy: 0.8421\n",
      "Epoch 12/100\n",
      "11/11 [==============================] - 0s 2ms/step - loss: 0.6681 - accuracy: 0.7309 - val_loss: 0.5186 - val_accuracy: 0.8626\n",
      "Epoch 13/100\n",
      "11/11 [==============================] - 0s 2ms/step - loss: 0.6393 - accuracy: 0.7412 - val_loss: 0.4856 - val_accuracy: 0.8655\n",
      "Epoch 14/100\n",
      "11/11 [==============================] - 0s 2ms/step - loss: 0.6317 - accuracy: 0.7441 - val_loss: 0.4561 - val_accuracy: 0.8626\n",
      "Epoch 15/100\n",
      "11/11 [==============================] - 0s 2ms/step - loss: 0.6281 - accuracy: 0.7419 - val_loss: 0.4259 - val_accuracy: 0.8977\n",
      "Epoch 16/100\n",
      "11/11 [==============================] - 0s 2ms/step - loss: 0.5911 - accuracy: 0.7537 - val_loss: 0.3990 - val_accuracy: 0.9094\n",
      "Epoch 17/100\n",
      "11/11 [==============================] - 0s 2ms/step - loss: 0.5803 - accuracy: 0.7735 - val_loss: 0.3769 - val_accuracy: 0.9035\n",
      "Epoch 18/100\n",
      "11/11 [==============================] - 0s 2ms/step - loss: 0.5637 - accuracy: 0.7815 - val_loss: 0.3600 - val_accuracy: 0.9152\n",
      "Epoch 19/100\n",
      "11/11 [==============================] - 0s 2ms/step - loss: 0.5741 - accuracy: 0.7705 - val_loss: 0.3438 - val_accuracy: 0.9123\n",
      "Epoch 20/100\n",
      "11/11 [==============================] - 0s 2ms/step - loss: 0.5286 - accuracy: 0.7852 - val_loss: 0.3286 - val_accuracy: 0.9152\n",
      "Epoch 21/100\n",
      "11/11 [==============================] - 0s 2ms/step - loss: 0.5570 - accuracy: 0.7779 - val_loss: 0.3159 - val_accuracy: 0.9152\n",
      "Epoch 22/100\n",
      "11/11 [==============================] - 0s 2ms/step - loss: 0.5605 - accuracy: 0.7764 - val_loss: 0.3082 - val_accuracy: 0.9298\n",
      "Epoch 23/100\n",
      "11/11 [==============================] - 0s 2ms/step - loss: 0.5329 - accuracy: 0.7889 - val_loss: 0.3014 - val_accuracy: 0.9269\n",
      "Epoch 24/100\n",
      "11/11 [==============================] - 0s 2ms/step - loss: 0.5370 - accuracy: 0.7859 - val_loss: 0.2939 - val_accuracy: 0.9269\n",
      "Epoch 25/100\n",
      "11/11 [==============================] - 0s 2ms/step - loss: 0.5338 - accuracy: 0.7903 - val_loss: 0.2870 - val_accuracy: 0.9415\n",
      "Epoch 26/100\n",
      "11/11 [==============================] - 0s 2ms/step - loss: 0.5171 - accuracy: 0.8043 - val_loss: 0.2806 - val_accuracy: 0.9357\n",
      "Epoch 27/100\n",
      "11/11 [==============================] - 0s 2ms/step - loss: 0.5092 - accuracy: 0.8101 - val_loss: 0.2724 - val_accuracy: 0.9357\n",
      "Epoch 28/100\n",
      "11/11 [==============================] - 0s 2ms/step - loss: 0.4745 - accuracy: 0.8160 - val_loss: 0.2658 - val_accuracy: 0.9444\n",
      "Epoch 29/100\n",
      "11/11 [==============================] - 0s 2ms/step - loss: 0.4838 - accuracy: 0.8123 - val_loss: 0.2578 - val_accuracy: 0.9415\n",
      "Epoch 30/100\n",
      "11/11 [==============================] - 0s 2ms/step - loss: 0.5006 - accuracy: 0.8094 - val_loss: 0.2485 - val_accuracy: 0.9503\n",
      "Epoch 31/100\n",
      "11/11 [==============================] - 0s 2ms/step - loss: 0.5056 - accuracy: 0.7933 - val_loss: 0.2408 - val_accuracy: 0.9444\n",
      "Epoch 32/100\n",
      "11/11 [==============================] - 0s 2ms/step - loss: 0.4432 - accuracy: 0.8321 - val_loss: 0.2397 - val_accuracy: 0.9503\n",
      "Epoch 33/100\n",
      "11/11 [==============================] - 0s 2ms/step - loss: 0.4946 - accuracy: 0.8109 - val_loss: 0.2380 - val_accuracy: 0.9474\n",
      "Epoch 34/100\n",
      "11/11 [==============================] - 0s 2ms/step - loss: 0.4837 - accuracy: 0.8123 - val_loss: 0.2374 - val_accuracy: 0.9503\n",
      "Epoch 35/100\n",
      "11/11 [==============================] - 0s 2ms/step - loss: 0.4659 - accuracy: 0.8314 - val_loss: 0.2374 - val_accuracy: 0.9503\n",
      "Epoch 36/100\n",
      "11/11 [==============================] - 0s 2ms/step - loss: 0.4577 - accuracy: 0.8299 - val_loss: 0.2323 - val_accuracy: 0.9503\n",
      "Epoch 37/100\n",
      "11/11 [==============================] - 0s 2ms/step - loss: 0.4764 - accuracy: 0.8094 - val_loss: 0.2296 - val_accuracy: 0.9474\n",
      "Epoch 38/100\n",
      "11/11 [==============================] - 0s 2ms/step - loss: 0.4387 - accuracy: 0.8196 - val_loss: 0.2248 - val_accuracy: 0.9474\n",
      "Epoch 39/100\n",
      "11/11 [==============================] - 0s 2ms/step - loss: 0.4684 - accuracy: 0.8182 - val_loss: 0.2210 - val_accuracy: 0.9474\n",
      "Epoch 40/100\n",
      "11/11 [==============================] - 0s 2ms/step - loss: 0.4570 - accuracy: 0.8240 - val_loss: 0.2137 - val_accuracy: 0.9503\n",
      "Epoch 41/100\n",
      "11/11 [==============================] - 0s 2ms/step - loss: 0.4639 - accuracy: 0.8189 - val_loss: 0.2171 - val_accuracy: 0.9444\n",
      "Epoch 42/100\n",
      "11/11 [==============================] - 0s 2ms/step - loss: 0.4588 - accuracy: 0.8262 - val_loss: 0.2175 - val_accuracy: 0.9503\n",
      "Epoch 43/100\n",
      "11/11 [==============================] - 0s 2ms/step - loss: 0.4583 - accuracy: 0.8292 - val_loss: 0.2140 - val_accuracy: 0.9474\n",
      "Epoch 44/100\n",
      "11/11 [==============================] - 0s 2ms/step - loss: 0.4524 - accuracy: 0.8226 - val_loss: 0.2176 - val_accuracy: 0.9474\n",
      "Epoch 45/100\n",
      "11/11 [==============================] - 0s 2ms/step - loss: 0.4717 - accuracy: 0.8174 - val_loss: 0.2161 - val_accuracy: 0.9503\n",
      "Epoch 46/100\n",
      "11/11 [==============================] - 0s 2ms/step - loss: 0.4532 - accuracy: 0.8226 - val_loss: 0.2187 - val_accuracy: 0.9474\n",
      "Epoch 47/100\n",
      "11/11 [==============================] - 0s 2ms/step - loss: 0.4339 - accuracy: 0.8328 - val_loss: 0.2147 - val_accuracy: 0.9474\n",
      "Epoch 48/100\n",
      "11/11 [==============================] - 0s 2ms/step - loss: 0.4328 - accuracy: 0.8453 - val_loss: 0.2073 - val_accuracy: 0.9474\n",
      "Epoch 49/100\n",
      "11/11 [==============================] - 0s 2ms/step - loss: 0.4102 - accuracy: 0.8512 - val_loss: 0.2041 - val_accuracy: 0.9532\n",
      "Epoch 50/100\n",
      "11/11 [==============================] - 0s 2ms/step - loss: 0.4118 - accuracy: 0.8541 - val_loss: 0.1987 - val_accuracy: 0.9561\n",
      "Epoch 51/100\n",
      "11/11 [==============================] - 0s 2ms/step - loss: 0.4372 - accuracy: 0.8292 - val_loss: 0.2028 - val_accuracy: 0.9474\n",
      "Epoch 52/100\n",
      "11/11 [==============================] - 0s 2ms/step - loss: 0.4173 - accuracy: 0.8482 - val_loss: 0.2068 - val_accuracy: 0.9474\n",
      "Epoch 53/100\n",
      "11/11 [==============================] - 0s 2ms/step - loss: 0.4418 - accuracy: 0.8284 - val_loss: 0.2093 - val_accuracy: 0.9503\n",
      "Epoch 54/100\n",
      "11/11 [==============================] - 0s 2ms/step - loss: 0.4172 - accuracy: 0.8453 - val_loss: 0.2015 - val_accuracy: 0.9503\n",
      "Epoch 55/100\n",
      "11/11 [==============================] - 0s 2ms/step - loss: 0.4342 - accuracy: 0.8380 - val_loss: 0.1987 - val_accuracy: 0.9532\n",
      "Epoch 56/100\n",
      "11/11 [==============================] - 0s 2ms/step - loss: 0.4217 - accuracy: 0.8350 - val_loss: 0.1985 - val_accuracy: 0.9503\n",
      "Epoch 57/100\n",
      "11/11 [==============================] - 0s 2ms/step - loss: 0.4270 - accuracy: 0.8350 - val_loss: 0.1982 - val_accuracy: 0.9532\n",
      "Epoch 58/100\n",
      "11/11 [==============================] - 0s 2ms/step - loss: 0.4089 - accuracy: 0.8387 - val_loss: 0.1963 - val_accuracy: 0.9503\n",
      "Epoch 59/100\n",
      "11/11 [==============================] - 0s 2ms/step - loss: 0.4434 - accuracy: 0.8292 - val_loss: 0.1941 - val_accuracy: 0.9532\n",
      "Epoch 60/100\n",
      "11/11 [==============================] - 0s 2ms/step - loss: 0.3910 - accuracy: 0.8585 - val_loss: 0.1953 - val_accuracy: 0.9532\n",
      "Epoch 61/100\n",
      "11/11 [==============================] - 0s 2ms/step - loss: 0.4133 - accuracy: 0.8490 - val_loss: 0.1902 - val_accuracy: 0.9561\n",
      "Epoch 62/100\n",
      "11/11 [==============================] - 0s 4ms/step - loss: 0.4030 - accuracy: 0.8482 - val_loss: 0.1909 - val_accuracy: 0.9532\n",
      "Epoch 63/100\n",
      "11/11 [==============================] - 0s 2ms/step - loss: 0.4005 - accuracy: 0.8614 - val_loss: 0.1862 - val_accuracy: 0.9561\n",
      "Epoch 64/100\n",
      "11/11 [==============================] - 0s 2ms/step - loss: 0.3974 - accuracy: 0.8468 - val_loss: 0.1845 - val_accuracy: 0.9591\n",
      "Epoch 65/100\n",
      "11/11 [==============================] - 0s 2ms/step - loss: 0.4322 - accuracy: 0.8380 - val_loss: 0.1916 - val_accuracy: 0.9532\n",
      "Epoch 66/100\n",
      "11/11 [==============================] - 0s 2ms/step - loss: 0.4027 - accuracy: 0.8497 - val_loss: 0.1953 - val_accuracy: 0.9474\n",
      "Epoch 67/100\n",
      "11/11 [==============================] - 0s 2ms/step - loss: 0.4009 - accuracy: 0.8402 - val_loss: 0.1821 - val_accuracy: 0.9620\n",
      "Epoch 68/100\n",
      "11/11 [==============================] - 0s 2ms/step - loss: 0.3776 - accuracy: 0.8688 - val_loss: 0.1793 - val_accuracy: 0.9649\n",
      "Epoch 69/100\n",
      "11/11 [==============================] - 0s 2ms/step - loss: 0.3971 - accuracy: 0.8446 - val_loss: 0.1792 - val_accuracy: 0.9591\n",
      "Epoch 70/100\n",
      "11/11 [==============================] - 0s 2ms/step - loss: 0.3850 - accuracy: 0.8482 - val_loss: 0.1801 - val_accuracy: 0.9561\n",
      "Epoch 71/100\n",
      "11/11 [==============================] - 0s 2ms/step - loss: 0.4111 - accuracy: 0.8475 - val_loss: 0.1810 - val_accuracy: 0.9591\n",
      "Epoch 72/100\n",
      "11/11 [==============================] - 0s 2ms/step - loss: 0.4307 - accuracy: 0.8328 - val_loss: 0.1858 - val_accuracy: 0.9620\n",
      "Epoch 73/100\n",
      "11/11 [==============================] - 0s 2ms/step - loss: 0.3997 - accuracy: 0.8431 - val_loss: 0.1903 - val_accuracy: 0.9591\n",
      "Epoch 74/100\n",
      "11/11 [==============================] - 0s 2ms/step - loss: 0.3592 - accuracy: 0.8651 - val_loss: 0.1882 - val_accuracy: 0.9620\n",
      "Epoch 75/100\n",
      "11/11 [==============================] - 0s 2ms/step - loss: 0.3857 - accuracy: 0.8460 - val_loss: 0.1816 - val_accuracy: 0.9620\n",
      "Epoch 76/100\n",
      "11/11 [==============================] - 0s 2ms/step - loss: 0.3834 - accuracy: 0.8636 - val_loss: 0.1791 - val_accuracy: 0.9620\n",
      "Epoch 77/100\n",
      "11/11 [==============================] - 0s 2ms/step - loss: 0.4052 - accuracy: 0.8468 - val_loss: 0.1791 - val_accuracy: 0.9620\n",
      "Epoch 78/100\n",
      "11/11 [==============================] - 0s 2ms/step - loss: 0.3708 - accuracy: 0.8710 - val_loss: 0.1775 - val_accuracy: 0.9561\n",
      "Epoch 79/100\n",
      "11/11 [==============================] - 0s 2ms/step - loss: 0.4150 - accuracy: 0.8438 - val_loss: 0.1772 - val_accuracy: 0.9620\n",
      "Epoch 80/100\n",
      "11/11 [==============================] - 0s 2ms/step - loss: 0.3863 - accuracy: 0.8629 - val_loss: 0.1808 - val_accuracy: 0.9561\n",
      "Epoch 81/100\n",
      "11/11 [==============================] - 0s 2ms/step - loss: 0.3606 - accuracy: 0.8739 - val_loss: 0.1826 - val_accuracy: 0.9591\n",
      "Epoch 82/100\n",
      "11/11 [==============================] - 0s 2ms/step - loss: 0.3798 - accuracy: 0.8614 - val_loss: 0.1825 - val_accuracy: 0.9620\n",
      "Epoch 83/100\n",
      "11/11 [==============================] - 0s 2ms/step - loss: 0.3674 - accuracy: 0.8724 - val_loss: 0.1849 - val_accuracy: 0.9561\n",
      "Epoch 84/100\n",
      "11/11 [==============================] - 0s 2ms/step - loss: 0.3602 - accuracy: 0.8629 - val_loss: 0.1710 - val_accuracy: 0.9620\n",
      "Epoch 85/100\n",
      "11/11 [==============================] - 0s 2ms/step - loss: 0.3476 - accuracy: 0.8761 - val_loss: 0.1675 - val_accuracy: 0.9591\n",
      "Epoch 86/100\n",
      "11/11 [==============================] - 0s 2ms/step - loss: 0.3530 - accuracy: 0.8636 - val_loss: 0.1703 - val_accuracy: 0.9561\n",
      "Epoch 87/100\n",
      "11/11 [==============================] - 0s 2ms/step - loss: 0.3554 - accuracy: 0.8651 - val_loss: 0.1681 - val_accuracy: 0.9561\n",
      "Epoch 88/100\n",
      "11/11 [==============================] - 0s 2ms/step - loss: 0.3819 - accuracy: 0.8541 - val_loss: 0.1698 - val_accuracy: 0.9591\n",
      "Epoch 89/100\n",
      "11/11 [==============================] - 0s 2ms/step - loss: 0.3418 - accuracy: 0.8739 - val_loss: 0.1792 - val_accuracy: 0.9678\n",
      "Epoch 90/100\n",
      "11/11 [==============================] - 0s 2ms/step - loss: 0.3504 - accuracy: 0.8636 - val_loss: 0.1835 - val_accuracy: 0.9620\n",
      "Epoch 91/100\n",
      "11/11 [==============================] - 0s 2ms/step - loss: 0.3589 - accuracy: 0.8702 - val_loss: 0.1753 - val_accuracy: 0.9620\n",
      "Epoch 92/100\n",
      "11/11 [==============================] - 0s 2ms/step - loss: 0.3118 - accuracy: 0.8827 - val_loss: 0.1662 - val_accuracy: 0.9649\n",
      "Epoch 93/100\n",
      "11/11 [==============================] - 0s 2ms/step - loss: 0.3578 - accuracy: 0.8724 - val_loss: 0.1572 - val_accuracy: 0.9649\n",
      "Epoch 94/100\n",
      "11/11 [==============================] - 0s 2ms/step - loss: 0.3429 - accuracy: 0.8783 - val_loss: 0.1576 - val_accuracy: 0.9649\n",
      "Epoch 95/100\n",
      "11/11 [==============================] - 0s 2ms/step - loss: 0.3535 - accuracy: 0.8658 - val_loss: 0.1617 - val_accuracy: 0.9649\n",
      "Epoch 96/100\n",
      "11/11 [==============================] - 0s 2ms/step - loss: 0.3330 - accuracy: 0.8856 - val_loss: 0.1628 - val_accuracy: 0.9620\n",
      "Epoch 97/100\n",
      "11/11 [==============================] - 0s 2ms/step - loss: 0.3408 - accuracy: 0.8790 - val_loss: 0.1595 - val_accuracy: 0.9708\n",
      "Epoch 98/100\n",
      "11/11 [==============================] - 0s 2ms/step - loss: 0.3207 - accuracy: 0.8812 - val_loss: 0.1564 - val_accuracy: 0.9620\n",
      "Epoch 99/100\n",
      "11/11 [==============================] - 0s 2ms/step - loss: 0.3246 - accuracy: 0.8798 - val_loss: 0.1618 - val_accuracy: 0.9591\n",
      "Epoch 100/100\n",
      "11/11 [==============================] - 0s 2ms/step - loss: 0.2927 - accuracy: 0.8886 - val_loss: 0.1535 - val_accuracy: 0.9678\n"
     ]
    }
   ],
   "source": [
    "history = model.fit(\n",
    "    X_train,\n",
    "    y_train,\n",
    "    epochs=100,\n",
    "    batch_size=128,\n",
    "    validation_data=(X_test, y_test),\n",
    ")"
   ]
  },
  {
   "cell_type": "code",
   "execution_count": 9,
   "metadata": {},
   "outputs": [
    {
     "name": "stdout",
     "output_type": "stream",
     "text": [
      "3/3 [==============================] - 0s 958us/step - loss: 0.1535 - accuracy: 0.9678\n"
     ]
    }
   ],
   "source": [
    "val_loss, val_acc = model.evaluate(X_test, y_test, batch_size=128)"
   ]
  },
  {
   "cell_type": "code",
   "execution_count": 10,
   "metadata": {},
   "outputs": [
    {
     "name": "stdout",
     "output_type": "stream",
     "text": [
      "1/1 [==============================] - 0s 40ms/step\n",
      "[0.00128788 0.8025172  0.19619487]\n",
      "1\n"
     ]
    }
   ],
   "source": [
    "predict_result = model.predict(np.array([X_test[0]]))\n",
    "print(np.squeeze(predict_result))\n",
    "print(np.argmax(np.squeeze(predict_result)))"
   ]
  },
  {
   "cell_type": "code",
   "execution_count": 11,
   "metadata": {},
   "outputs": [
    {
     "name": "stdout",
     "output_type": "stream",
     "text": [
      "11/11 [==============================] - 0s 404us/step\n"
     ]
    },
    {
     "data": {
      "image/png": "[encoded data removed]",
      "text/plain": [
       "<Figure size 700x600 with 2 Axes>"
      ]
     },
     "metadata": {},
     "output_type": "display_data"
    },
    {
     "name": "stdout",
     "output_type": "stream",
     "text": [
      "Classification Report\n",
      "              precision    recall  f1-score   support\n",
      "\n",
      "           0       0.97      0.86      0.91        37\n",
      "           1       0.97      0.98      0.98       123\n",
      "           2       0.97      0.98      0.97       182\n",
      "\n",
      "    accuracy                           0.97       342\n",
      "   macro avg       0.97      0.94      0.95       342\n",
      "weighted avg       0.97      0.97      0.97       342\n",
      "\n"
     ]
    }
   ],
   "source": [
    "import pandas as pd\n",
    "import seaborn as sns\n",
    "import matplotlib.pyplot as plt\n",
    "from sklearn.metrics import confusion_matrix, classification_report\n",
    "\n",
    "def print_confusion_matrix(y_true, y_pred, report=True):\n",
    "    labels = sorted(list(set(y_true)))\n",
    "    cmx_data = confusion_matrix(y_true, y_pred, labels=labels)\n",
    "    \n",
    "    df_cmx = pd.DataFrame(cmx_data, index=labels, columns=labels)\n",
    " \n",
    "    fig, ax = plt.subplots(figsize=(7, 6))\n",
    "    sns.heatmap(df_cmx, annot=True, fmt='g' ,square=False)\n",
    "    ax.set_ylim(len(set(y_true)), 0)\n",
    "    plt.show()\n",
    "    \n",
    "    if report:\n",
    "        print('Classification Report')\n",
    "        print(classification_report(y_test, y_pred))\n",
    "\n",
    "Y_pred = model.predict(X_test)\n",
    "y_pred = np.argmax(Y_pred, axis=1)\n",
    "\n",
    "print_confusion_matrix(y_test, y_pred)"
   ]
  },
  {
   "cell_type": "code",
   "execution_count": 12,
   "metadata": {},
   "outputs": [
    {
     "data": {
      "text/plain": [
       "[<matplotlib.lines.Line2D at 0x15930ff10>]"
      ]
     },
     "execution_count": 12,
     "metadata": {},
     "output_type": "execute_result"
    },
    {
     "data": {
      "image/png": "[encoded data removed]",
      "text/plain": [
       "<Figure size 640x480 with 1 Axes>"
      ]
     },
     "metadata": {},
     "output_type": "display_data"
    }
   ],
   "source": [
    "plt.plot(history.history['val_loss'])"
   ]
  },
  {
   "cell_type": "code",
   "execution_count": null,
   "metadata": {},
   "outputs": [],
   "source": []
  }
 ],
 "metadata": {
  "kernelspec": {
   "display_name": "compvis",
   "language": "python",
   "name": "python3"
  },
  "language_info": {
   "codemirror_mode": {
    "name": "ipython",
    "version": 3
   },
   "file_extension": ".py",
   "mimetype": "text/x-python",
   "name": "python",
   "nbconvert_exporter": "python",
   "pygments_lexer": "ipython3",
   "version": "3.10.14"
  }
 },
 "nbformat": 4,
 "nbformat_minor": 2
}
